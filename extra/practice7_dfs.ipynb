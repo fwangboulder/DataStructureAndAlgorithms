{
 "cells": [
  {
   "cell_type": "markdown",
   "metadata": {},
   "source": [
    "1. **108 Convert Sorted Array to Binary Search Tree** medium\n",
    "\n",
    "        given an array where elements are sorted in ascending order, convert it to a height balanced BST\n",
    "        \n",
    "2. **105 Construct Binary Tree from Preorder and Inorder Traversal** medium\n",
    "\n",
    "        Given preorder and inorder traversal of a tree, construct the binary tree.\n",
    "        assume no duplicates.\n",
    "        \n",
    "3. **106 Construct Binary Tree from Inorder and Postorder Transversal** medium\n",
    "\n",
    "        assume no duplicates.\n",
    "        \n",
    "4. **199 Binary Tree Right Side View** medium\n",
    "\n",
    "        Given a binary tree, imagine yourself standing on the right side of it, return the values of the nodes you can \n",
    "        see ordered from top to bottom.\n",
    "        \n",
    "5. **114 Flatten Binary Tree to Linked List\n",
    "\n",
    "        Given a binary tree, flatten it to a linked list in-place.\n",
    "        \n",
    "        \n",
    "        \n",
    "        \n",
    "        \n",
    "        "
   ]
  },
  {
   "cell_type": "code",
   "execution_count": 1,
   "metadata": {
    "collapsed": true
   },
   "outputs": [],
   "source": [
    "# Definition for a binary tree node.\n",
    "# class TreeNode(object):\n",
    "#     def __init__(self, x):\n",
    "#         self.val = x\n",
    "#         self.left = None\n",
    "#         self.right = None\n",
    "\n",
    "class Solution(object):\n",
    "    def sortedArrayToBST(self, nums):\n",
    "        \"\"\"\n",
    "        :type nums: List[int]\n",
    "        :rtype: TreeNode\n",
    "        \"\"\"\n",
    "        if len(nums)==0:\n",
    "            return None\n",
    "        elif len(nums)==1:\n",
    "            return TreeNode(nums[0])\n",
    "        else:\n",
    "            mid=len(nums)//2\n",
    "            node=TreeNode(nums[mid])\n",
    "            node.left=self.sortedArrayToBST(nums[0:mid])\n",
    "            node.right=self.sortedArrayToBST(nums[mid+1:len(nums)])\n",
    "        return node"
   ]
  },
  {
   "cell_type": "code",
   "execution_count": 2,
   "metadata": {
    "collapsed": true
   },
   "outputs": [],
   "source": [
    "#105\n",
    "# Definition for a binary tree node.\n",
    "# class TreeNode(object):\n",
    "#     def __init__(self, x):\n",
    "#         self.val = x\n",
    "#         self.left = None\n",
    "#         self.right = None\n",
    "\n",
    "class Solution(object):\n",
    "    def buildTree(self, preorder, inorder):\n",
    "        \"\"\"\n",
    "        :type preorder: List[int]\n",
    "        :type inorder: List[int]\n",
    "        :rtype: TreeNode\n",
    "        \"\"\"\n",
    "        if inorder:\n",
    "            root = TreeNode(preorder[0])\n",
    "            root_index = inorder.index(preorder[0])\n",
    "            preorder.pop(0)\n",
    "            l_len = len(inorder[:root_index])\n",
    "            root.left = self.buildTree(preorder, inorder[0:l_len])\n",
    "            root.right = self.buildTree(preorder, inorder[l_len+1:])\n",
    "            return root       "
   ]
  },
  {
   "cell_type": "code",
   "execution_count": 3,
   "metadata": {
    "collapsed": true
   },
   "outputs": [],
   "source": [
    "#106\n",
    "# Definition for a binary tree node.\n",
    "# class TreeNode(object):\n",
    "#     def __init__(self, x):\n",
    "#         self.val = x\n",
    "#         self.left = None\n",
    "#         self.right = None\n",
    "\n",
    "class Solution(object):\n",
    "    def buildTree(self, inorder, postorder):\n",
    "        \"\"\"\n",
    "        :type inorder: List[int]\n",
    "        :type postorder: List[int]\n",
    "        :rtype: TreeNode\n",
    "        \"\"\"\n",
    "    \n",
    "        if not inorder or not postorder:\n",
    "            return None\n",
    "        \n",
    "        root = TreeNode(postorder.pop())\n",
    "        inorderIndex = inorder.index(root.val)\n",
    "\n",
    "        root.right = self.buildTree(inorder[inorderIndex+1:], postorder)\n",
    "        root.left = self.buildTree(inorder[:inorderIndex], postorder)\n",
    "\n",
    "        return root"
   ]
  },
  {
   "cell_type": "code",
   "execution_count": 4,
   "metadata": {
    "collapsed": true
   },
   "outputs": [],
   "source": [
    "#199\n",
    "# Definition for a binary tree node.\n",
    "# class TreeNode(object):\n",
    "#     def __init__(self, x):\n",
    "#         self.val = x\n",
    "#         self.left = None\n",
    "#         self.right = None\n",
    "\n",
    "class Solution(object):\n",
    "    def rightSideView(self, root):\n",
    "        \"\"\"\n",
    "        :type root: TreeNode\n",
    "        :rtype: List[int]\n",
    "        \"\"\"\n",
    "        if root==None:\n",
    "            return []\n",
    "        res=[root.val]\n",
    "        left=res+self.rightSideView(root.left)\n",
    "        right=res+self.rightSideView(root.right)\n",
    "        if len(right)>=len(left):\n",
    "            return right\n",
    "        return right+left[len(right):]"
   ]
  },
  {
   "cell_type": "code",
   "execution_count": null,
   "metadata": {
    "collapsed": true
   },
   "outputs": [],
   "source": [
    "# Definition for a binary tree node.\n",
    "# class TreeNode(object):\n",
    "#     def __init__(self, x):\n",
    "#         self.val = x\n",
    "#         self.left = None\n",
    "#         self.right = None\n",
    "\n",
    "class Solution(object):\n",
    "    def flatten(self, root):\n",
    "        \"\"\"\n",
    "        :type root: TreeNode\n",
    "        :rtype: void Do not return anything, modify root in-place instead.\n",
    "        \"\"\"\n",
    "        stack=[]\n",
    "\n",
    "        while stack or root: \n",
    "            if root: \n",
    "                if root.right: \n",
    "                    stack.append(root.right)\n",
    "                if root.left: \n",
    "                    root.right=root.left\n",
    "                    root.left=None\n",
    "                elif stack:\n",
    "                    \n",
    "                    root.right=stack.pop()\n",
    "                root=root.right        "
   ]
  }
 ],
 "metadata": {
  "anaconda-cloud": {},
  "kernelspec": {
   "display_name": "Python [Root]",
   "language": "python",
   "name": "Python [Root]"
  },
  "language_info": {
   "codemirror_mode": {
    "name": "ipython",
    "version": 2
   },
   "file_extension": ".py",
   "mimetype": "text/x-python",
   "name": "python",
   "nbconvert_exporter": "python",
   "pygments_lexer": "ipython2",
   "version": "2.7.12"
  }
 },
 "nbformat": 4,
 "nbformat_minor": 0
}
