{
 "cells": [
  {
   "cell_type": "markdown",
   "metadata": {},
   "source": [
    "**Jan 02 2017 by Fang Wang**\n",
    "\n",
    "1. **151 Reverse Words in a String**  Medium\n",
    "\n",
    "    reverse the string word by word.\n",
    "    \n",
    "    input: s=\"the sky is blue\"\n",
    "    output: return \"blue is sky the\"\n",
    " \n",
    "2. **238 Product of Array Except Self** Medium\n",
    "\n",
    "    Given an array of n integers where n>1, nums, return an array output such that output[i] is equal to the product of all the elements of nums except num[i].\n",
    "    \n",
    "    Solved it without division and in O(n)\n",
    "    \n",
    "    input: [1,2,3,4]\n",
    "    return:[24,12,8,6]\n",
    "    \n",
    "3. **338 Counting Bits** Medium\n",
    "\n",
    "    Given a non negative integer number num, 0<=i<=num, count 1 for i's binary representation and return them as an array.\n",
    "    \n",
    "    Input: 5\n",
    "    output: [0,1,1,2,1,2]\n",
    "    \n",
    "4. **121 Best Time to Buy and Sell Stock** easy\n",
    "\n",
    "    same as 122 but you were only permitted to complete at most one transaction. Find the maximum profit.\n",
    "    \n",
    "    Input: [7,1,5,3,6,4]\n",
    "    \n",
    "    output: 5\n",
    "    \n",
    "    \n",
    "    \n",
    "5. **122 Best Time to Buy and Sell Stock II**  Medium\n",
    "    array: the ith element is the price of a given stack on day i\n",
    "    design an algorithm to find the maximum profit. You may complete as many transactions as you like (ie, buy one and sell one share of the stock multiple times. However, you must sell the stock before you buy it again.\n",
    "\n"
   ]
  },
  {
   "cell_type": "code",
   "execution_count": 8,
   "metadata": {
    "collapsed": true
   },
   "outputs": [],
   "source": [
    "#151\n",
    "class Solution(object):\n",
    "    def reverseWords(self, s):\n",
    "        \"\"\"\n",
    "        :type s: str\n",
    "        :rtype: str\n",
    "        \"\"\"\n",
    "        s=s.split()\n",
    "        end=len(s)-1\n",
    "        start=0\n",
    "        while start<=end:\n",
    "            tmp=s[start]\n",
    "            s[start]=s[end]\n",
    "            s[end]=tmp\n",
    "            start+=1\n",
    "            end-=1\n",
    "        return ' '.join(s)"
   ]
  },
  {
   "cell_type": "code",
   "execution_count": 12,
   "metadata": {
    "collapsed": false
   },
   "outputs": [
    {
     "name": "stdout",
     "output_type": "stream",
     "text": [
      "blue is sky the\n",
      "the\n",
      "\n"
     ]
    }
   ],
   "source": [
    "test=Solution()\n",
    "print test.reverseWords('the sky is blue')\n",
    "print test.reverseWords('the')\n",
    "print test.reverseWords(' ')"
   ]
  },
  {
   "cell_type": "code",
   "execution_count": 15,
   "metadata": {
    "collapsed": true
   },
   "outputs": [],
   "source": [
    "#238\n",
    "class Solution(object):\n",
    "    def productExceptSelf(self, nums):\n",
    "        \"\"\"\n",
    "        :type nums: List[int]\n",
    "        :rtype: List[int]\n",
    "        need to avoid division and consider o(n) time\n",
    "        \"\"\"\n",
    "        p=1\n",
    "        n=len(nums)\n",
    "        res=[]\n",
    "        for i in range(n):\n",
    "            res.append(p)\n",
    "            p=p*nums[i]\n",
    "        p=1\n",
    "        for i in range(n-1,-1,-1):\n",
    "            res[i]*=p\n",
    "            p=p*nums[i]\n",
    "        return res"
   ]
  },
  {
   "cell_type": "code",
   "execution_count": 16,
   "metadata": {
    "collapsed": false
   },
   "outputs": [
    {
     "name": "stdout",
     "output_type": "stream",
     "text": [
      "[24, 12, 8, 6]\n"
     ]
    }
   ],
   "source": [
    "test=Solution()\n",
    "print test.productExceptSelf([1,2,3,4])"
   ]
  },
  {
   "cell_type": "code",
   "execution_count": 23,
   "metadata": {
    "collapsed": true
   },
   "outputs": [],
   "source": [
    "#338\n",
    "class Solution(object):\n",
    "    def countBits(self, num):\n",
    "        \"\"\"\n",
    "        :type num: int\n",
    "        :rtype: List[int]\n",
    "        \"\"\"\n",
    "        res=[]\n",
    "        def countBit(t):\n",
    "            count=0\n",
    "            while t!=0:\n",
    "                if t&1==1:\n",
    "                    count+=1\n",
    "                t>>=1\n",
    "            return count\n",
    "        for i in range(num+1):\n",
    "            \n",
    "            res.append(countBit(i))\n",
    "        return res"
   ]
  },
  {
   "cell_type": "code",
   "execution_count": 24,
   "metadata": {
    "collapsed": false
   },
   "outputs": [
    {
     "name": "stdout",
     "output_type": "stream",
     "text": [
      "[0, 1, 1, 2, 1, 2]\n"
     ]
    }
   ],
   "source": [
    "test=Solution()\n",
    "print test.countBits(5)"
   ]
  },
  {
   "cell_type": "code",
   "execution_count": 30,
   "metadata": {
    "collapsed": true
   },
   "outputs": [],
   "source": [
    "#121\n",
    "class Solution(object):\n",
    "    def maxProfit(self, prices):\n",
    "        \"\"\"\n",
    "        :type prices: List[int]\n",
    "        :rtype: int\n",
    "        \"\"\"\n",
    "        if len(prices)==0:\n",
    "            return 0\n",
    "        max_p=0\n",
    "        min_price=prices[0]\n",
    "        for i,num in enumerate(prices):\n",
    "            min_price=min(min_price,num)\n",
    "            max_p=max(max_p,prices[i]-min_price)\n",
    "        return max_p"
   ]
  },
  {
   "cell_type": "code",
   "execution_count": 31,
   "metadata": {
    "collapsed": false
   },
   "outputs": [
    {
     "name": "stdout",
     "output_type": "stream",
     "text": [
      "5\n",
      "0\n",
      "4\n"
     ]
    }
   ],
   "source": [
    "test=Solution()\n",
    "print test.maxProfit([7,1,5,3,6,4])\n",
    "print test.maxProfit([7,6,5,4,3,1])\n",
    "print test.maxProfit([7,3,7,1,3])"
   ]
  },
  {
   "cell_type": "code",
   "execution_count": null,
   "metadata": {
    "collapsed": true
   },
   "outputs": [],
   "source": [
    "#122\n",
    "class Solution(object):\n",
    "    def maxProfit(self, prices):\n",
    "        \"\"\"\n",
    "        :type prices: List[int]\n",
    "        :rtype: int\n",
    "        \"\"\"\n",
    "        res=0\n",
    "        \n",
    "        for i in range(1,len(prices)):\n",
    "            dif=prices[i]-prices[i-1]\n",
    "            if dif>0:\n",
    "                res+=dif\n",
    "        return res     "
   ]
  }
 ],
 "metadata": {
  "anaconda-cloud": {},
  "kernelspec": {
   "display_name": "Python [Root]",
   "language": "python",
   "name": "Python [Root]"
  },
  "language_info": {
   "codemirror_mode": {
    "name": "ipython",
    "version": 2
   },
   "file_extension": ".py",
   "mimetype": "text/x-python",
   "name": "python",
   "nbconvert_exporter": "python",
   "pygments_lexer": "ipython2",
   "version": "2.7.12"
  }
 },
 "nbformat": 4,
 "nbformat_minor": 0
}
