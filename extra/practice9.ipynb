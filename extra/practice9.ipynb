{
 "cells": [
  {
   "cell_type": "markdown",
   "metadata": {},
   "source": [
    "1. **146 LRU Cache** Hard\n",
    "\n",
    "        Design  and implement a data structure for Least Recent Used cache. It should support the following \n",
    "        operations: get(key) return -2 if not exists, set(key, value) if the key is not already present"
   ]
  },
  {
   "cell_type": "code",
   "execution_count": null,
   "metadata": {
    "collapsed": true
   },
   "outputs": [],
   "source": [
    "#146  \n",
    "# hardware or software component that stores data so future requests for that data can be served faster; \n",
    "#the data stored in a cache might be the result of an earlier computation, or the duplicate of data stored\n",
    "#elsewhere.\n",
    "class ListNode(object):\n",
    "    def __init__(self,k,v):\n",
    "        self.val=v\n",
    "        self.key=k\n",
    "        self.next=None\n",
    "        self.prev=None\n",
    "    \n",
    "        \n",
    "class LRUCache(object):\n",
    "\n",
    "    def __init__(self, capacity):\n",
    "        \"\"\"\n",
    "        :type capacity: int\n",
    "        \"\"\"\n",
    "        self.capacity = capacity\n",
    "        self.dic = dict()\n",
    "        self.head = ListNode(0, 0)\n",
    "        self.tail = ListNode(0, 0)\n",
    "        self.head.next = self.tail\n",
    "        self.tail.prev = self.head\n",
    " \n",
    "\n",
    "    def get(self, key):\n",
    "        \"\"\"\n",
    "        :rtype: int\n",
    "        \"\"\"\n",
    "        if key in self.dic:\n",
    "            n = self.dic[key]\n",
    "            self._remove(n)\n",
    "            self._add(n)\n",
    "            return n.val\n",
    "        return -1\n",
    "        \n",
    "\n",
    "    def set(self, key, value):\n",
    "        \"\"\"\n",
    "        :type key: int\n",
    "        :type value: int\n",
    "        :rtype: nothing\n",
    "        \"\"\"\n",
    "        if key in self.dic:\n",
    "            self._remove(self.dic[key])\n",
    "        n = ListNode(key, value)\n",
    "        self._add(n)\n",
    "        self.dic[key] = n\n",
    "        if len(self.dic) > self.capacity:\n",
    "            n = self.head.next\n",
    "            self._remove(n)\n",
    "            del self.dic[n.key]\n",
    "            \n",
    "    def _remove(self, node):\n",
    "        p = node.prev\n",
    "        n = node.next\n",
    "        p.next = n\n",
    "        n.prev = p\n",
    "\n",
    "    def _add(self, node):\n",
    "        p = self.tail.prev\n",
    "        p.next = node\n",
    "        self.tail.prev = node\n",
    "        node.prev = p\n",
    "        node.next = self.tail        "
   ]
  }
 ],
 "metadata": {
  "kernelspec": {
   "display_name": "Python [Root]",
   "language": "python",
   "name": "Python [Root]"
  },
  "language_info": {
   "codemirror_mode": {
    "name": "ipython",
    "version": 2
   },
   "file_extension": ".py",
   "mimetype": "text/x-python",
   "name": "python",
   "nbconvert_exporter": "python",
   "pygments_lexer": "ipython2",
   "version": "2.7.12"
  }
 },
 "nbformat": 4,
 "nbformat_minor": 0
}
