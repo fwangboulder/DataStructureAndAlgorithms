{
 "cells": [
  {
   "cell_type": "markdown",
   "metadata": {},
   "source": [
    "1. **71 Simplify Path** medium\n",
    "\n",
    "        given an absolute path for a file(unix style), simplify it.\n",
    "    \n",
    "        example:\n",
    "    \n",
    "        ```\n",
    "        input: \"/home/\"\n",
    "        output: \"/home\"\n",
    "    \n",
    "        input: \"/a/./b/../../c/\"\n",
    "        output: \"/c\"\n",
    "    \n",
    "        ```\n",
    "\n",
    "2. **139 Word Break** medium\n",
    "\n",
    "        Given a string s and a dictionary of words dict, determined if s can be segmented into a space separated sequence of one or more dictionary words.\n",
    "        For example, given \n",
    "        ```\n",
    "        s=\"leetcode\"\n",
    "        dict=[\"leet\",\"code\"]\n",
    "        return True\n",
    "        ```\n",
    "        \n",
    "\n",
    "3. **179 Largest Number** medium\n",
    "\n",
    "        Given a list of non negative integers, arrange them such that they form the largest nuber.\n",
    "        \n",
    "        ```\n",
    "        input [3,30,34,5,9]\n",
    "        output: 9534330\n",
    "        \n",
    "        ```\n",
    "\n",
    "4. **150 Evaluate Reverse Polish Notation** Medium\n",
    "\n",
    "        Evaluate the value of an arithmetic expression in Reverse Polish Notation.\n",
    "        Valid operators are + -* /. Each operand may be an integer or another expression.\n",
    "        Some examples:\n",
    "        \n",
    "        ```\n",
    "        [\"2\",\"1\",\"+\",\"3\",\"*\"]->((2+1)*3)->9\n",
    "        [\"4\",\"13\",\"5\",\"/\",\"+\"]-> (4+(13/5))->6\n",
    "        \n",
    "        ```\n",
    "\n",
    "5. **152 Maximum Product Subarray** Medium\n",
    "        find the contiguous subarray within an array (contains at least one number) which has the largest product.\n",
    "        \n",
    "        ```\n",
    "        input: [2,3,-2,4]\n",
    "        \n",
    "        output: 6\n",
    "        \n",
    "        ```\n",
    "        \n",
    "        \n",
    "\n"
   ]
  },
  {
   "cell_type": "code",
   "execution_count": null,
   "metadata": {
    "collapsed": true
   },
   "outputs": [],
   "source": []
  },
  {
   "cell_type": "code",
   "execution_count": 6,
   "metadata": {
    "collapsed": true
   },
   "outputs": [],
   "source": [
    "#71\n",
    "class Solution(object):\n",
    "    def simplifyPath(self,path):\n",
    "        \"\"\"\n",
    "        :type path: str\n",
    "        :rtype: str\n",
    "        \"\"\"\n",
    "        places=[p for p in path.split(\"/\") if p!=\".\" and p!=\"\"]\n",
    "        #print places\n",
    "        stack=[]\n",
    "        for p in places:\n",
    "            if p==\"..\":\n",
    "                if len(stack)>0:\n",
    "                    stack.pop()\n",
    "            else:\n",
    "                stack.append(p)\n",
    "        return \"/\"+\"/\".join(stack)\n",
    "        \n",
    "        "
   ]
  },
  {
   "cell_type": "code",
   "execution_count": 7,
   "metadata": {
    "collapsed": false
   },
   "outputs": [
    {
     "name": "stdout",
     "output_type": "stream",
     "text": [
      "/c\n"
     ]
    }
   ],
   "source": [
    "test=Solution()\n",
    "print test.simplifyPath(\"/a/./b/../../c/\")"
   ]
  },
  {
   "cell_type": "code",
   "execution_count": 37,
   "metadata": {
    "collapsed": false
   },
   "outputs": [],
   "source": [
    "#139\n",
    "class Solution(object):\n",
    "    def wordBreak(self,s,wordDict):\n",
    "        \"\"\"\n",
    "        :type s: str\n",
    "        :type wordDict: Set[str]\n",
    "        :rtype: bool\n",
    "        \"\"\"\n",
    "        #step 1: Label each character of s as false in the beginning (create an array flag)\n",
    "        #step 2: loop s and check if there is one word  in dic equals to it, if so, change it label to True (two loops)\n",
    "        #step 3: conditions: s[i]==word and (flag[i-len(word)]==True or i-len(word)+1==0)\n",
    "        flag=[False]*len(s)\n",
    "        for i in range(len(s)):\n",
    "            for word in wordDict:\n",
    "                if s[(i-len(word)+1):(i+1)]==word and (flag[i-len(word)] or i-len(word)+1==0):\n",
    "                    flag[i]=True\n",
    "        return flag[-1]\n",
    "    "
   ]
  },
  {
   "cell_type": "code",
   "execution_count": 39,
   "metadata": {
    "collapsed": false
   },
   "outputs": [
    {
     "name": "stdout",
     "output_type": "stream",
     "text": [
      "True\n",
      "True\n"
     ]
    }
   ],
   "source": [
    "test=Solution()\n",
    "print test.wordBreak('leetcode',['leet','code'])\n",
    "print test.wordBreak('a',['a'])"
   ]
  },
  {
   "cell_type": "code",
   "execution_count": 40,
   "metadata": {
    "collapsed": false
   },
   "outputs": [],
   "source": [
    "#179 this can be a good sort example\n",
    "class Solution:\n",
    "    # @param {integer[]} nums\n",
    "    # @return {string}\n",
    "    def largestNumber(self, nums):\n",
    "        if not nums:\n",
    "            return \"0\"\n",
    "        return \"\".join(sorted(map(str, nums), cmp=lambda n1, n2: -1 if n1+n2>n2+n1 else (1 if n1+n2<n2+n1 else 0)))\n",
    "    "
   ]
  },
  {
   "cell_type": "code",
   "execution_count": 51,
   "metadata": {
    "collapsed": false
   },
   "outputs": [
    {
     "data": {
      "text/plain": [
       "'9534330'"
      ]
     },
     "execution_count": 51,
     "metadata": {},
     "output_type": "execute_result"
    }
   ],
   "source": [
    "test=Solution()\n",
    "test.largestNumber([3,30,34,5,9])"
   ]
  },
  {
   "cell_type": "code",
   "execution_count": 50,
   "metadata": {
    "collapsed": false
   },
   "outputs": [
    {
     "data": {
      "text/plain": [
       "['3', '12']"
      ]
     },
     "execution_count": 50,
     "metadata": {},
     "output_type": "execute_result"
    }
   ],
   "source": [
    "sorted(iterable[, cmp[, key[, reverse]]])"
   ]
  },
  {
   "cell_type": "code",
   "execution_count": 68,
   "metadata": {
    "collapsed": false
   },
   "outputs": [
    {
     "data": {
      "text/plain": [
       "'9534330'"
      ]
     },
     "execution_count": 68,
     "metadata": {},
     "output_type": "execute_result"
    }
   ],
   "source": [
    "#179 this can be a good sort example \n",
    "#Merge Sort \n",
    "class Solution:\n",
    "    # @param {integer[]} nums\n",
    "    # @return {string}\n",
    "    def compare(self, n1, n2):\n",
    "        return str(n1) + str(n2) > str(n2) + str(n1)\n",
    "\n",
    "    def mergeSort(self,nums,l,r):\n",
    "        if l>r:\n",
    "            return\n",
    "        if l==r:\n",
    "            return [nums[l]]\n",
    "        mid=l+(r-l)//2\n",
    "        left=self.mergeSort(nums,l,mid)\n",
    "        right=self.mergeSort(nums,mid+1,r)\n",
    "        return self.merge(left,right)\n",
    "    def merge(self,l1,l2):\n",
    "        res,i,j=[],0,0\n",
    "        while i<len(l1) and j<len(l2):\n",
    "            if not self.compare(l1[i],l2[j]):\n",
    "                res.append(l2[j])\n",
    "                j+=1\n",
    "            else:\n",
    "                res.append(l1[i])\n",
    "                i+=1\n",
    "        res.extend(l1[i:] or l2[j:])\n",
    "        return res    \n",
    "    def largestNumber(self, nums):\n",
    "        nums=self.mergeSort(nums,0,len(nums)-1)\n",
    "        return str(int(\"\".join(map(str,nums))))\n",
    "    \n",
    "test=Solution()\n",
    "test.largestNumber([3,30,34,5,9])"
   ]
  },
  {
   "cell_type": "code",
   "execution_count": 70,
   "metadata": {
    "collapsed": false
   },
   "outputs": [
    {
     "name": "stdout",
     "output_type": "stream",
     "text": [
      "9534330\n"
     ]
    }
   ],
   "source": [
    "#179\n",
    "#Insertion Sort\n",
    "class Solution:\n",
    "    def compare(self, n1, n2):\n",
    "        return str(n1) + str(n2) > str(n2) + str(n1)\n",
    "    def largestNumber(self, nums):\n",
    "        for i in xrange(len(nums)):\n",
    "            pos, cur = i, nums[i]\n",
    "            while pos > 0 and not self.compare(nums[pos-1], cur):\n",
    "                nums[pos] = nums[pos-1]  # move one-step forward\n",
    "                pos -= 1\n",
    "            nums[pos] = cur\n",
    "        return str(int(\"\".join(map(str, nums))))\n",
    "test=Solution()\n",
    "print test.largestNumber([3,30,34,5,9])"
   ]
  },
  {
   "cell_type": "code",
   "execution_count": 72,
   "metadata": {
    "collapsed": false
   },
   "outputs": [
    {
     "name": "stdout",
     "output_type": "stream",
     "text": [
      "9534330\n"
     ]
    }
   ],
   "source": [
    "#179\n",
    "#quick sort in place\n",
    "class Solution:\n",
    "    def largestNumber(self, nums):\n",
    "        self.quickSort(nums, 0, len(nums)-1)\n",
    "        return str(int(\"\".join(map(str, nums)))) \n",
    "    def compare(self, n1, n2):\n",
    "        return str(n1) + str(n2) > str(n2) + str(n1)\n",
    "\n",
    "    def quickSort(self, nums, l, r):\n",
    "        if l >= r:\n",
    "            return \n",
    "        pos = self.partition(nums, l, r)\n",
    "        self.quickSort(nums, l, pos-1)\n",
    "        self.quickSort(nums, pos+1, r)\n",
    "    \n",
    "    def partition(self, nums, l, r):\n",
    "        low = l\n",
    "        while l < r:\n",
    "            if self.compare(nums[l], nums[r]):\n",
    "                nums[l], nums[low] = nums[low], nums[l]\n",
    "                low += 1\n",
    "            l += 1\n",
    "        nums[low], nums[r] = nums[r], nums[low]\n",
    "        return low\n",
    "test=Solution()\n",
    "print test.largestNumber([3,30,34,5,9])"
   ]
  },
  {
   "cell_type": "code",
   "execution_count": 73,
   "metadata": {
    "collapsed": false
   },
   "outputs": [
    {
     "name": "stdout",
     "output_type": "stream",
     "text": [
      "9534330\n"
     ]
    }
   ],
   "source": [
    "# bubble sort\n",
    "#179\n",
    "class Solution:\n",
    "    def compare(self, n1, n2):\n",
    "        return str(n1) + str(n2) > str(n2) + str(n1)\n",
    "    def largestNumber(self, nums):\n",
    "        for i in xrange(len(nums), 0, -1):\n",
    "            for j in xrange(i-1):\n",
    "                if not self.compare(nums[j], nums[j+1]):\n",
    "                    nums[j], nums[j+1] = nums[j+1], nums[j]\n",
    "        return str(int(\"\".join(map(str, nums))))\n",
    "test=Solution()\n",
    "print test.largestNumber([3,30,34,5,9])"
   ]
  },
  {
   "cell_type": "code",
   "execution_count": 74,
   "metadata": {
    "collapsed": false
   },
   "outputs": [
    {
     "name": "stdout",
     "output_type": "stream",
     "text": [
      "9534330\n"
     ]
    }
   ],
   "source": [
    "#selection sort\n",
    "#179\n",
    "class Solution:\n",
    "    def compare(self, n1, n2):\n",
    "        return str(n1) + str(n2) > str(n2) + str(n1)\n",
    "    def largestNumber(self, nums):\n",
    "        for i in xrange(len(nums), 0, -1):\n",
    "            tmp = 0\n",
    "            for j in xrange(i):\n",
    "                if not self.compare(nums[j], nums[tmp]):\n",
    "                    tmp = j\n",
    "            nums[tmp], nums[i-1] = nums[i-1], nums[tmp]\n",
    "        return str(int(\"\".join(map(str, nums))))    \n",
    "test=Solution()\n",
    "print test.largestNumber([3,30,34,5,9])"
   ]
  },
  {
   "cell_type": "code",
   "execution_count": 75,
   "metadata": {
    "collapsed": false
   },
   "outputs": [
    {
     "name": "stdout",
     "output_type": "stream",
     "text": [
      "9\n"
     ]
    }
   ],
   "source": [
    "#150 \n",
    "class Solution(object):\n",
    "    def evalRPN(self, tokens):\n",
    "        \"\"\"\n",
    "        :type tokens: List[str]\n",
    "        :rtype: int\n",
    "        \"\"\"\n",
    "        stack=[]\n",
    "        for i in tokens:\n",
    "            if i.lstrip('-').isdigit():\n",
    "                stack.append(int(i))\n",
    "                \n",
    "            elif stack:\n",
    "                b=stack.pop()\n",
    "                a=stack.pop()\n",
    "                if i=='+':\n",
    "                    res=a+b\n",
    "                elif i=='-':\n",
    "                    res=a-b\n",
    "                elif i=='*':\n",
    "                    res=a*b\n",
    "                else:\n",
    "                    res=int(float(a)/b)\n",
    "                stack.append(res)\n",
    "        return stack[-1]\n",
    "test=Solution()\n",
    "print test.evalRPN([\"2\",\"1\",\"+\",\"3\",\"*\"])\n",
    "                \n",
    "                "
   ]
  },
  {
   "cell_type": "code",
   "execution_count": 76,
   "metadata": {
    "collapsed": false
   },
   "outputs": [
    {
     "name": "stdout",
     "output_type": "stream",
     "text": [
      "16\n"
     ]
    }
   ],
   "source": [
    "#152 Maximum Product Subarray\n",
    "class Solution(object):\n",
    "    def maxProduct(self, nums):\n",
    "        \"\"\"\n",
    "        :type nums: List[int]\n",
    "        :rtype: int\n",
    "        \"\"\"\n",
    "\n",
    "        MinTemp = nums[0]\n",
    "        MaxTemp = nums[0]\n",
    "        Max = nums[0]\n",
    "        Min=nums[0]\n",
    "        for i in xrange(1, len(nums)):\n",
    "            MinTemp, MaxTemp = min(nums[i], nums[i] * MaxTemp, nums[i] * MinTemp), max(nums[i], nums[i] * MaxTemp, nums[i] * MinTemp)\n",
    "            Max = max(Max, MaxTemp)\n",
    "           \n",
    "        return Max   \n",
    "test=Solution()\n",
    "print test.maxProduct([-2,2,-4])"
   ]
  },
  {
   "cell_type": "code",
   "execution_count": null,
   "metadata": {
    "collapsed": true
   },
   "outputs": [],
   "source": []
  }
 ],
 "metadata": {
  "anaconda-cloud": {},
  "kernelspec": {
   "display_name": "Python [Root]",
   "language": "python",
   "name": "Python [Root]"
  },
  "language_info": {
   "codemirror_mode": {
    "name": "ipython",
    "version": 2
   },
   "file_extension": ".py",
   "mimetype": "text/x-python",
   "name": "python",
   "nbconvert_exporter": "python",
   "pygments_lexer": "ipython2",
   "version": "2.7.12"
  }
 },
 "nbformat": 4,
 "nbformat_minor": 0
}
