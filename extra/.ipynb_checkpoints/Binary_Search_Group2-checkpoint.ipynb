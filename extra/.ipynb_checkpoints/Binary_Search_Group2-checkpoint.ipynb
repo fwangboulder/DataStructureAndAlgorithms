{
 "cells": [
  {
   "cell_type": "markdown",
   "metadata": {},
   "source": [
    "Binary Search \n",
    "O(logn) time complexity\n",
    "\n",
    "Four keys:\n",
    "1. start+1<end               end conditions\n",
    "2. start+(end-start)/2       for java\n",
    "3. A[mid]==?\n",
    "4. A[start] A[end] ?target\n",
    "\n",
    "# Group 2: \n",
    "\n",
    "\"\"\"\n",
    "sqrt(X)\n",
    "\n",
    "pow(x, n)\n",
    "\n",
    "fastPower\n",
    "\n",
    "\n",
    "\n",
    "**Two dimension**\n",
    "\n",
    "Search a 2d Matrix\n",
    "\n",
    "search a 2d Matrix II\n"
   ]
  },
  {
   "cell_type": "code",
   "execution_count": 2,
   "metadata": {
    "collapsed": true
   },
   "outputs": [],
   "source": [
    "#sqrt(x)\n",
    "\n",
    "class Solution(object):\n",
    "    def mySqrt(self, x):\n",
    "        \"\"\"\n",
    "        :type x: int\n",
    "        :rtype: int\n",
    "        \"\"\"\n",
    "        if x == 0 or x == 1:\n",
    "            return x\n",
    "\n",
    "        start, end = 0, x\n",
    "        while start + 1 < end:\n",
    "            mid = start + (end - start) / 2\n",
    "            sqrt = mid ** 2\n",
    "            sqrtPlus = (mid + 1) ** 2\n",
    "            if sqrt <= x and sqrtPlus > x: #note sqrt and sqrtPlus\n",
    "                return mid\n",
    "            elif sqrt < x:\n",
    "                start = mid\n",
    "            else:\n",
    "                end = mid\n",
    "\n",
    "        if start ** 2 >= x:\n",
    "            return start\n",
    "        else:\n",
    "            return end"
   ]
  },
  {
   "cell_type": "code",
   "execution_count": 3,
   "metadata": {
    "collapsed": true
   },
   "outputs": [],
   "source": [
    "#pow(x,n) if odd, multiply by x in the end\n",
    "\n",
    "class Solution(object):\n",
    "    def myPow(self, x, n):\n",
    "        \"\"\"\n",
    "        :type x: float\n",
    "        :type n: int\n",
    "        :rtype: float\n",
    "        \"\"\"\n",
    "        if x == 0:\n",
    "            return 0\n",
    "        if n == 0:\n",
    "            return 1\n",
    "\n",
    "        if n < 0:\n",
    "            ret = self.myPow(x, -n)\n",
    "            return 1 / ret\n",
    "\n",
    "        ret = self.myPow(x, n / 2)\n",
    "        ret *= ret\n",
    "\n",
    "        if n % 2 != 0:\n",
    "            ret *= x\n",
    "\n",
    "        return ret"
   ]
  },
  {
   "cell_type": "code",
   "execution_count": 4,
   "metadata": {
    "collapsed": true
   },
   "outputs": [],
   "source": [
    "# Search a 2D Matrix, convert 2D to 1D\n",
    "\n",
    "class Solution(object):\n",
    "    def searchMatrix(self, matrix, target):\n",
    "        \"\"\"\n",
    "        :type matrix: List[List[int]]\n",
    "        :type target: int\n",
    "        :rtype: bool\n",
    "        \"\"\"\n",
    "        row = len(matrix)\n",
    "        col = len(matrix[0])\n",
    "\n",
    "        start, end = 0, col * row - 1\n",
    "\n",
    "        while start + 1 < end:\n",
    "            mid = start + (end - start) / 2\n",
    "            x = mid / col\n",
    "            y = mid % col\n",
    "            if matrix[x][y] == target:\n",
    "                return True\n",
    "            elif matrix[x][y] > target:\n",
    "                end = mid\n",
    "            else:\n",
    "                start = mid\n",
    "\n",
    "        startX = start / col\n",
    "        startY = start % col\n",
    "        if matrix[startX][startY] == target:\n",
    "            return True\n",
    "        endX = end / col\n",
    "        endY = end % col\n",
    "        if matrix[endX][endY] == target:\n",
    "            return True\n",
    "\n",
    "        return False"
   ]
  },
  {
   "cell_type": "code",
   "execution_count": null,
   "metadata": {
    "collapsed": true
   },
   "outputs": [],
   "source": [
    "#Search a 2D Matrix II\n",
    "class Solution(object):\n",
    "    def searchMatrix(self, matrix, target):\n",
    "        \"\"\"\n",
    "        :type matrix: List[List[int]]\n",
    "        :type target: int\n",
    "        :rtype: bool\n",
    "        \"\"\"\n",
    "        row = len(matrix)\n",
    "        col = len(matrix[0])\n",
    "\n",
    "        x = 0\n",
    "        y = col - 1\n",
    "        while x < row and y >= 0:\n",
    "            if matrix[x][y] == target:\n",
    "                return True\n",
    "            elif matrix[x][y] > target: #note matrix is special for ascending order for column and row\n",
    "                y -= 1\n",
    "            else:\n",
    "                x += 1\n",
    "\n",
    "        return False"
   ]
  }
 ],
 "metadata": {
  "anaconda-cloud": {},
  "kernelspec": {
   "display_name": "Python [Root]",
   "language": "python",
   "name": "Python [Root]"
  },
  "language_info": {
   "codemirror_mode": {
    "name": "ipython",
    "version": 2
   },
   "file_extension": ".py",
   "mimetype": "text/x-python",
   "name": "python",
   "nbconvert_exporter": "python",
   "pygments_lexer": "ipython2",
   "version": "2.7.12"
  }
 },
 "nbformat": 4,
 "nbformat_minor": 0
}
